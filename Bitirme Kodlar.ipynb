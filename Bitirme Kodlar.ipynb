{
 "cells": [
  {
   "cell_type": "code",
   "execution_count": 28,
   "id": "a48ced31",
   "metadata": {},
   "outputs": [
    {
     "name": "stdout",
     "output_type": "stream",
     "text": [
      "                 Model  Accuracy  Precision    Recall  F1 Score\n",
      "0  Logistic Regression  0.859629   0.916564  0.790119  0.848658\n",
      "1        Random Forest  0.939194   0.957619  0.918581  0.937694\n",
      "2  k-Nearest Neighbors  0.932549   0.951141  0.911404  0.930849\n"
     ]
    }
   ],
   "source": [
    "from sklearn.preprocessing import LabelEncoder, StandardScaler\n",
    "from sklearn.linear_model import LogisticRegression\n",
    "from sklearn.ensemble import RandomForestClassifier\n",
    "from sklearn.neighbors import KNeighborsClassifier\n",
    "from sklearn.metrics import accuracy_score, precision_score, recall_score, f1_score\n",
    "from sklearn.model_selection import train_test_split\n",
    "from urllib.parse import urlparse\n",
    "import pandas as pd\n",
    "import re\n",
    "import tldextract\n",
    "import numpy as np\n",
    "\n",
    "# verilerin önişlenmesi ve feature çıkarılması\n",
    "def preprocess_url(url):\n",
    "    parsed_url = urlparse(url)\n",
    "    domain_info = tldextract.extract(url)\n",
    "\n",
    "    \n",
    "    url_length = len(url)\n",
    "    special_char_count = len(re.findall(r'\\W', url))\n",
    "    http_presence = 1 if parsed_url.scheme == 'http' else 0\n",
    "    digit_count = sum(c.isdigit() for c in url)\n",
    "    subdomain_count = len(domain_info.subdomain.split('.')) - 1 if domain_info.subdomain else 0\n",
    "    common_tlds = ['com', 'org', 'net', 'edu', 'gov', 'uk', 'de', 'jp', 'fr', 'au', 'us', 'ru', 'ch', 'it', 'nl', 'se', 'no', 'es', 'mil']\n",
    "    tld_common = 1 if domain_info.suffix in common_tlds else 0\n",
    "    https_presence = 1 if parsed_url.scheme == 'https' else 0\n",
    "    path_length = len(parsed_url.path)\n",
    "\n",
    "    return [url_length, special_char_count, http_presence, digit_count, subdomain_count, tld_common, https_presence, path_length]\n",
    "\n",
    "# veri setinin yüklenmesi\n",
    "file_path = 'C:/Users/oguzh/Downloads/archive-8/dataset.csv'\n",
    "data = pd.read_csv(file_path)\n",
    "\n",
    "# \n",
    "features = data['url'].apply(preprocess_url)\n",
    "features_df = pd.DataFrame(features.tolist(), columns=['url_length', 'special_char_count', 'http_presence', 'digit_count', 'subdomain_count', 'tld_common', 'https_presence', 'path_length'])\n",
    "\n",
    "\n",
    "label_encoder = LabelEncoder()\n",
    "encoded_labels = label_encoder.fit_transform(data['type'])\n",
    "\n",
    "# veri setinin eğitim ve test için bölünmesi\n",
    "X_train, X_test, y_train, y_test = train_test_split(features_df, encoded_labels, test_size=0.2, random_state=42)\n",
    "\n",
    "# feature scaling\n",
    "scaler = StandardScaler()\n",
    "X_train_scaled = scaler.fit_transform(X_train)\n",
    "X_test_scaled = scaler.transform(X_test)\n",
    "\n",
    "# Lojistik regresyon modeli\n",
    "log_reg = LogisticRegression(max_iter=1000)\n",
    "log_reg.fit(X_train_scaled, y_train)\n",
    "log_reg_predictions = log_reg.predict(X_test_scaled)\n",
    "\n",
    "# random forest modeli\n",
    "rand_forest = RandomForestClassifier()\n",
    "rand_forest.fit(X_train_scaled, y_train)\n",
    "rand_forest_predictions = rand_forest.predict(X_test_scaled)\n",
    "\n",
    "# k nearest neighbor modeli\n",
    "knn = KNeighborsClassifier(n_neighbors=5)\n",
    "knn.fit(X_train_scaled, y_train)\n",
    "knn_predictions = knn.predict(X_test_scaled)\n",
    "\n",
    "\n",
    "results = {\n",
    "    \"Model\": [\"Logistic Regression\", \"Random Forest\", \"k-Nearest Neighbors\"],\n",
    "    \"Accuracy\": [accuracy_score(y_test, log_reg_predictions), accuracy_score(y_test, rand_forest_predictions), accuracy_score(y_test, knn_predictions)],\n",
    "    \"Precision\": [precision_score(y_test, log_reg_predictions), precision_score(y_test, rand_forest_predictions), precision_score(y_test, knn_predictions)],\n",
    "    \"Recall\": [recall_score(y_test, log_reg_predictions), recall_score(y_test, rand_forest_predictions), recall_score(y_test, knn_predictions)],\n",
    "    \"F1 Score\": [f1_score(y_test, log_reg_predictions), f1_score(y_test, rand_forest_predictions), f1_score(y_test, knn_predictions)]\n",
    "}\n",
    "\n",
    "results_df = pd.DataFrame(results)\n",
    "print(results_df)\n"
   ]
  },
  {
   "cell_type": "code",
   "execution_count": 26,
   "id": "d232c6da",
   "metadata": {},
   "outputs": [
    {
     "name": "stdout",
     "output_type": "stream",
     "text": [
      "URL: https://datasciencedojo.com/blog/machine-learning-101/#\n",
      "Logistic Regression Prediction: benign\n",
      "Random Forest Prediction: benign\n",
      "k-Nearest Neighbors Prediction: benign\n"
     ]
    }
   ],
   "source": [
    "def classify_url(url, log_reg_model, rand_forest_model, knn_model, scaler, label_encoder):\n",
    "    \n",
    "    features = preprocess_url(url)\n",
    "    features_array = np.array(features).reshape(1, -1)\n",
    "    scaled_features = scaler.transform(features_array)\n",
    "    log_reg_prediction = log_reg_model.predict(scaled_features)\n",
    "    rand_forest_prediction = rand_forest_model.predict(scaled_features)\n",
    "    knn_prediction = knn_model.predict(scaled_features)  \n",
    "    log_reg_result = label_encoder.inverse_transform(log_reg_prediction)[0]\n",
    "    rand_forest_result = label_encoder.inverse_transform(rand_forest_prediction)[0]\n",
    "    knn_result = label_encoder.inverse_transform(knn_prediction)[0]  \n",
    "\n",
    "    print(f\"URL: {url}\")\n",
    "    print(f\"Logistic Regression Prediction: {log_reg_result}\")\n",
    "    print(f\"Random Forest Prediction: {rand_forest_result}\")\n",
    "    print(f\"k-Nearest Neighbors Prediction: {knn_result}\") \n",
    "\n",
    "# Siniflandirilacak URL\n",
    "example_url = \"https://datasciencedojo.com/blog/machine-learning-101/#\"\n",
    "classify_url(example_url, log_reg, rand_forest, knn, scaler, label_encoder)\n"
   ]
  }
 ],
 "metadata": {
  "kernelspec": {
   "display_name": "Python 3",
   "language": "python",
   "name": "python3"
  },
  "language_info": {
   "codemirror_mode": {
    "name": "ipython",
    "version": 3
   },
   "file_extension": ".py",
   "mimetype": "text/x-python",
   "name": "python",
   "nbconvert_exporter": "python",
   "pygments_lexer": "ipython3",
   "version": "3.8.8"
  }
 },
 "nbformat": 4,
 "nbformat_minor": 5
}
